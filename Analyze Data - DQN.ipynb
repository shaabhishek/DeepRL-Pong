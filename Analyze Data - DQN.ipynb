{
 "cells": [
  {
   "cell_type": "markdown",
   "metadata": {},
   "source": [
    "# Preprocess log file first by running the following script\n",
    "\n",
    "## Change the logfilename\n",
    "\n",
    "Example: `./preprocess_logs.sh 1533116055`"
   ]
  },
  {
   "cell_type": "markdown",
   "metadata": {},
   "source": [
    "# Import Libraries"
   ]
  },
  {
   "cell_type": "code",
   "execution_count": 1,
   "metadata": {},
   "outputs": [
    {
     "name": "stdout",
     "output_type": "stream",
     "text": [
      "/anaconda3/bin/python\n"
     ]
    }
   ],
   "source": [
    "import sys\n",
    "print(sys.executable)"
   ]
  },
  {
   "cell_type": "code",
   "execution_count": 2,
   "metadata": {},
   "outputs": [],
   "source": [
    "import pandas\n",
    "import re\n",
    "import numpy as np\n",
    "import matplotlib.pyplot as plt\n",
    "import seaborn\n",
    "%matplotlib inline\n",
    "import glob\n",
    "from time import gmtime, strftime\n",
    "from sklearn.linear_model import LinearRegression, Ridge"
   ]
  },
  {
   "cell_type": "code",
   "execution_count": 3,
   "metadata": {},
   "outputs": [
    {
     "data": {
      "text/plain": [
       "{'logs/dqn_0.20156279202652394-log': '01Jan 00:00',\n",
       " 'logs/a2c_0.839309354318-log': '01Jan 00:00',\n",
       " 'logs/dqn_0.8112342057798159-log': '01Jan 00:00',\n",
       " 'logs/a2c_0.8587228232556535-log': '01Jan 00:00',\n",
       " 'logs/dqn-pong-1534163610-log': '13Aug 12:33',\n",
       " 'logs/a2c_0.291884179427754-log': '01Jan 00:00',\n",
       " 'logs/a2c_0.5333673473209196-log': '01Jan 00:00',\n",
       " 'logs/a2c_0.5250580183209552-log': '01Jan 00:00',\n",
       " 'logs/dqn_0.8580312332051564-log': '01Jan 00:00',\n",
       " 'logs/a2c_0.38985953554965636-log': '01Jan 00:00',\n",
       " 'logs/a2c_0.8323747714184345-log': '01Jan 00:00',\n",
       " 'logs/a2c_0.6565708838934593-log': '01Jan 00:00'}"
      ]
     },
     "execution_count": 3,
     "metadata": {},
     "output_type": "execute_result"
    }
   ],
   "source": [
    "{log:strftime(\"%d%b %H:%M\", gmtime(int(re.findall(\"\\d+\", log)[0]))) for log in glob.glob('logs/*-log')}"
   ]
  },
  {
   "cell_type": "code",
   "execution_count": 29,
   "metadata": {},
   "outputs": [
    {
     "data": {
      "text/plain": [
       "['logs/longdqn/dqn_0.8246659563481628-log',\n",
       " 'logs/longdqn/dqn_0.4036237050247964-log',\n",
       " 'logs/longdqn/dqn_0.all-log_qval.csv',\n",
       " 'logs/longdqn/dqn_0.all-log_reward.csv',\n",
       " 'logs/longdqn/dqn_0.6389490337149797-log',\n",
       " 'logs/longdqn/dqn_0.19446710549615254-log',\n",
       " 'logs/longdqn/dqn_0.all-log']"
      ]
     },
     "execution_count": 29,
     "metadata": {},
     "output_type": "execute_result"
    }
   ],
   "source": [
    "glob.glob('logs/longdqn/*')"
   ]
  },
  {
   "cell_type": "code",
   "execution_count": 239,
   "metadata": {},
   "outputs": [],
   "source": [
    "logfilename = 'dqn_0.all'\n",
    "qvalue_filename = 'logs/originaldqn/'+logfilename+'-log_qval.csv'\n",
    "reward_filename = 'logs/originaldqn/'+logfilename+'-log_reward.csv'"
   ]
  },
  {
   "cell_type": "code",
   "execution_count": 240,
   "metadata": {},
   "outputs": [],
   "source": [
    "# logfilename = 'dqn_0.all'\n",
    "# qvalue_filename = 'logs/longdqnmodified/'+logfilename+'-log_qval.csv'\n",
    "# reward_filename = 'logs/longdqnmodified/'+logfilename+'-log_reward.csv'"
   ]
  },
  {
   "cell_type": "code",
   "execution_count": 241,
   "metadata": {},
   "outputs": [],
   "source": [
    "# logfilename = 'dqn_0.all'\n",
    "# qvalue_filename = 'logs/longdqn/'+logfilename+'-log_qval.csv'\n",
    "# reward_filename = 'logs/longdqn/'+logfilename+'-log_reward.csv'"
   ]
  },
  {
   "cell_type": "code",
   "execution_count": 242,
   "metadata": {},
   "outputs": [],
   "source": [
    "# epsilon_df = pandas.read_csv(epsilon_filename,\n",
    "#                              names=[\"Step\", \"Epsilon\"],\n",
    "#                              dtype={'Step': np.uint32, 'Epsilon': np.float16})"
   ]
  },
  {
   "cell_type": "code",
   "execution_count": 243,
   "metadata": {},
   "outputs": [],
   "source": [
    "qval_df = pandas.read_csv(qvalue_filename,\n",
    "                          names=[\"Step\", \"QValue\", \"Loss\"],\n",
    "                          dtype={'Step': np.uint32, 'QValue': np.float16, 'Loss': np.float16})"
   ]
  },
  {
   "cell_type": "code",
   "execution_count": 244,
   "metadata": {},
   "outputs": [],
   "source": [
    "reward_df = pandas.read_csv(reward_filename,\n",
    "                            names=[\"Episode\", \"Reward\", \"EpisodeLength\"],\n",
    "                            dtype={'Episode': np.uint16, 'Reward': np.int8, 'EpisodeLength': np.uint16})"
   ]
  },
  {
   "cell_type": "code",
   "execution_count": 245,
   "metadata": {},
   "outputs": [],
   "source": [
    "# epsilon_df.head()"
   ]
  },
  {
   "cell_type": "code",
   "execution_count": 246,
   "metadata": {},
   "outputs": [
    {
     "data": {
      "text/html": [
       "<div>\n",
       "<style scoped>\n",
       "    .dataframe tbody tr th:only-of-type {\n",
       "        vertical-align: middle;\n",
       "    }\n",
       "\n",
       "    .dataframe tbody tr th {\n",
       "        vertical-align: top;\n",
       "    }\n",
       "\n",
       "    .dataframe thead th {\n",
       "        text-align: right;\n",
       "    }\n",
       "</style>\n",
       "<table border=\"1\" class=\"dataframe\">\n",
       "  <thead>\n",
       "    <tr style=\"text-align: right;\">\n",
       "      <th></th>\n",
       "      <th>Step</th>\n",
       "      <th>QValue</th>\n",
       "      <th>Loss</th>\n",
       "    </tr>\n",
       "  </thead>\n",
       "  <tbody>\n",
       "    <tr>\n",
       "      <th>2997</th>\n",
       "      <td>2997000</td>\n",
       "      <td>1.483398</td>\n",
       "      <td>0.009003</td>\n",
       "    </tr>\n",
       "    <tr>\n",
       "      <th>2998</th>\n",
       "      <td>2998000</td>\n",
       "      <td>1.397461</td>\n",
       "      <td>0.012001</td>\n",
       "    </tr>\n",
       "    <tr>\n",
       "      <th>2999</th>\n",
       "      <td>2999000</td>\n",
       "      <td>1.511719</td>\n",
       "      <td>0.045013</td>\n",
       "    </tr>\n",
       "    <tr>\n",
       "      <th>3000</th>\n",
       "      <td>3000000</td>\n",
       "      <td>1.431641</td>\n",
       "      <td>0.075012</td>\n",
       "    </tr>\n",
       "    <tr>\n",
       "      <th>3001</th>\n",
       "      <td>3001000</td>\n",
       "      <td>1.483398</td>\n",
       "      <td>0.020996</td>\n",
       "    </tr>\n",
       "  </tbody>\n",
       "</table>\n",
       "</div>"
      ],
      "text/plain": [
       "         Step    QValue      Loss\n",
       "2997  2997000  1.483398  0.009003\n",
       "2998  2998000  1.397461  0.012001\n",
       "2999  2999000  1.511719  0.045013\n",
       "3000  3000000  1.431641  0.075012\n",
       "3001  3001000  1.483398  0.020996"
      ]
     },
     "execution_count": 246,
     "metadata": {},
     "output_type": "execute_result"
    }
   ],
   "source": [
    "qval_df.tail()"
   ]
  },
  {
   "cell_type": "code",
   "execution_count": 247,
   "metadata": {},
   "outputs": [
    {
     "data": {
      "text/html": [
       "<div>\n",
       "<style scoped>\n",
       "    .dataframe tbody tr th:only-of-type {\n",
       "        vertical-align: middle;\n",
       "    }\n",
       "\n",
       "    .dataframe tbody tr th {\n",
       "        vertical-align: top;\n",
       "    }\n",
       "\n",
       "    .dataframe thead th {\n",
       "        text-align: right;\n",
       "    }\n",
       "</style>\n",
       "<table border=\"1\" class=\"dataframe\">\n",
       "  <thead>\n",
       "    <tr style=\"text-align: right;\">\n",
       "      <th></th>\n",
       "      <th>Episode</th>\n",
       "      <th>Reward</th>\n",
       "      <th>EpisodeLength</th>\n",
       "    </tr>\n",
       "  </thead>\n",
       "  <tbody>\n",
       "    <tr>\n",
       "      <th>1332</th>\n",
       "      <td>503</td>\n",
       "      <td>20</td>\n",
       "      <td>1653</td>\n",
       "    </tr>\n",
       "    <tr>\n",
       "      <th>1333</th>\n",
       "      <td>504</td>\n",
       "      <td>18</td>\n",
       "      <td>1851</td>\n",
       "    </tr>\n",
       "    <tr>\n",
       "      <th>1334</th>\n",
       "      <td>505</td>\n",
       "      <td>15</td>\n",
       "      <td>2366</td>\n",
       "    </tr>\n",
       "    <tr>\n",
       "      <th>1335</th>\n",
       "      <td>506</td>\n",
       "      <td>20</td>\n",
       "      <td>1751</td>\n",
       "    </tr>\n",
       "    <tr>\n",
       "      <th>1336</th>\n",
       "      <td>507</td>\n",
       "      <td>21</td>\n",
       "      <td>1727</td>\n",
       "    </tr>\n",
       "  </tbody>\n",
       "</table>\n",
       "</div>"
      ],
      "text/plain": [
       "      Episode  Reward  EpisodeLength\n",
       "1332      503      20           1653\n",
       "1333      504      18           1851\n",
       "1334      505      15           2366\n",
       "1335      506      20           1751\n",
       "1336      507      21           1727"
      ]
     },
     "execution_count": 247,
     "metadata": {},
     "output_type": "execute_result"
    }
   ],
   "source": [
    "reward_df.tail()"
   ]
  },
  {
   "cell_type": "markdown",
   "metadata": {},
   "source": [
    "# Q-values"
   ]
  },
  {
   "cell_type": "code",
   "execution_count": 248,
   "metadata": {},
   "outputs": [],
   "source": [
    "# qval_df['Step'] = qval_df.index*4"
   ]
  },
  {
   "cell_type": "code",
   "execution_count": 249,
   "metadata": {},
   "outputs": [
    {
     "data": {
      "text/html": [
       "<div>\n",
       "<style scoped>\n",
       "    .dataframe tbody tr th:only-of-type {\n",
       "        vertical-align: middle;\n",
       "    }\n",
       "\n",
       "    .dataframe tbody tr th {\n",
       "        vertical-align: top;\n",
       "    }\n",
       "\n",
       "    .dataframe thead th {\n",
       "        text-align: right;\n",
       "    }\n",
       "</style>\n",
       "<table border=\"1\" class=\"dataframe\">\n",
       "  <thead>\n",
       "    <tr style=\"text-align: right;\">\n",
       "      <th></th>\n",
       "      <th>Step</th>\n",
       "      <th>QValue</th>\n",
       "      <th>Loss</th>\n",
       "    </tr>\n",
       "  </thead>\n",
       "  <tbody>\n",
       "    <tr>\n",
       "      <th>2997</th>\n",
       "      <td>2997000</td>\n",
       "      <td>1.483398</td>\n",
       "      <td>0.009003</td>\n",
       "    </tr>\n",
       "    <tr>\n",
       "      <th>2998</th>\n",
       "      <td>2998000</td>\n",
       "      <td>1.397461</td>\n",
       "      <td>0.012001</td>\n",
       "    </tr>\n",
       "    <tr>\n",
       "      <th>2999</th>\n",
       "      <td>2999000</td>\n",
       "      <td>1.511719</td>\n",
       "      <td>0.045013</td>\n",
       "    </tr>\n",
       "    <tr>\n",
       "      <th>3000</th>\n",
       "      <td>3000000</td>\n",
       "      <td>1.431641</td>\n",
       "      <td>0.075012</td>\n",
       "    </tr>\n",
       "    <tr>\n",
       "      <th>3001</th>\n",
       "      <td>3001000</td>\n",
       "      <td>1.483398</td>\n",
       "      <td>0.020996</td>\n",
       "    </tr>\n",
       "  </tbody>\n",
       "</table>\n",
       "</div>"
      ],
      "text/plain": [
       "         Step    QValue      Loss\n",
       "2997  2997000  1.483398  0.009003\n",
       "2998  2998000  1.397461  0.012001\n",
       "2999  2999000  1.511719  0.045013\n",
       "3000  3000000  1.431641  0.075012\n",
       "3001  3001000  1.483398  0.020996"
      ]
     },
     "execution_count": 249,
     "metadata": {},
     "output_type": "execute_result"
    }
   ],
   "source": [
    "qval_df.tail()"
   ]
  },
  {
   "cell_type": "code",
   "execution_count": 265,
   "metadata": {},
   "outputs": [],
   "source": [
    "rolling_qval = qval_df.QValue.rolling(10).mean()"
   ]
  },
  {
   "cell_type": "code",
   "execution_count": 266,
   "metadata": {
    "scrolled": false
   },
   "outputs": [
    {
     "data": {
      "text/plain": [
       "Text(0.5,1,'qvalue')"
      ]
     },
     "execution_count": 266,
     "metadata": {},
     "output_type": "execute_result"
    },
    {
     "data": {
      "image/png": "[encoded data removed]",
      "text/plain": [
       "<Figure size 720x360 with 1 Axes>"
      ]
     },
     "metadata": {},
     "output_type": "display_data"
    }
   ],
   "source": [
    "plt.figure(figsize=(10,5))\n",
    "# seaborn.lineplot(data=qval_df[qval_df.Step % 2000 == 0], x=\"Step\", y=\"QValue\")\n",
    "# plt.scatter(data=qval_df[qval_df.Step % 1000 == 0], x=\"Step\", y=\"QValue\", s=2)\n",
    "# seaborn.lineplot(x=step_vals[::200], y=qval_pred)\n",
    "plt.plot(rolling_qval)\n",
    "plt.title('qvalue')"
   ]
  },
  {
   "cell_type": "code",
   "execution_count": 252,
   "metadata": {
    "scrolled": true
   },
   "outputs": [],
   "source": [
    "# lm = LinearRegression()\n",
    "# lm.fit(step_vals[:,None], qval_df.Loss.values)\n",
    "# loss_pred = lm.predict(step_vals[::200][:,None])"
   ]
  },
  {
   "cell_type": "code",
   "execution_count": 258,
   "metadata": {},
   "outputs": [],
   "source": [
    "rolling_loss = qval_df.Loss.rolling(window=10).mean()"
   ]
  },
  {
   "cell_type": "code",
   "execution_count": 259,
   "metadata": {},
   "outputs": [
    {
     "data": {
      "text/plain": [
       "Text(0.5,1,'loss')"
      ]
     },
     "execution_count": 259,
     "metadata": {},
     "output_type": "execute_result"
    },
    {
     "data": {
      "image/png": "[encoded data removed]",
      "text/plain": [
       "<Figure size 720x360 with 1 Axes>"
      ]
     },
     "metadata": {},
     "output_type": "display_data"
    }
   ],
   "source": [
    "plt.figure(figsize=(10,5))\n",
    "# seaborn.lineplot(data=qval_df[qval_df.Step % 2000 == 0], x=\"Step\", y=\"Loss\")\n",
    "# plt.scatter(data=qval_df[qval_df.Step % 1000 == 0], x=\"Step\", y=\"Loss\", s=2)\n",
    "# lp = seaborn.lineplot(x=step_vals[::200], y=loss_pred)\n",
    "# lsp.axes.set_ylim(-0.1,1.2)\n",
    "plt.plot(rolling_loss)\n",
    "plt.title('loss')"
   ]
  },
  {
   "cell_type": "markdown",
   "metadata": {},
   "source": [
    "# Reward Values"
   ]
  },
  {
   "cell_type": "code",
   "execution_count": 261,
   "metadata": {
    "scrolled": true
   },
   "outputs": [],
   "source": [
    "reward_df['Episode'] = reward_df.index"
   ]
  },
  {
   "cell_type": "code",
   "execution_count": 262,
   "metadata": {},
   "outputs": [
    {
     "data": {
      "text/plain": [
       "Text(0.5,1,'reward')"
      ]
     },
     "execution_count": 262,
     "metadata": {},
     "output_type": "execute_result"
    },
    {
     "data": {
      "image/png": "[encoded data removed]",
      "text/plain": [
       "<Figure size 720x360 with 1 Axes>"
      ]
     },
     "metadata": {},
     "output_type": "display_data"
    }
   ],
   "source": [
    "plt.figure(figsize=(10,5))\n",
    "plt.plot(reward_df.Episode, reward_df.Reward)\n",
    "plt.title('reward')"
   ]
  },
  {
   "cell_type": "markdown",
   "metadata": {},
   "source": [
    "## Rewards averaged"
   ]
  },
  {
   "cell_type": "code",
   "execution_count": 267,
   "metadata": {},
   "outputs": [],
   "source": [
    "# reward_df['bins'] = pandas.cut(reward_df.Episode, bins=200)\n",
    "rollingmean_rewards = reward_df.Reward.rolling(10).mean()\n",
    "rollingmean_eplength = reward_df.EpisodeLength.rolling(20).mean()"
   ]
  },
  {
   "cell_type": "code",
   "execution_count": 268,
   "metadata": {},
   "outputs": [
    {
     "data": {
      "text/plain": [
       "[<matplotlib.lines.Line2D at 0x1a207aa550>]"
      ]
     },
     "execution_count": 268,
     "metadata": {},
     "output_type": "execute_result"
    },
    {
     "data": {
      "image/png": "[encoded data removed]",
      "text/plain": [
       "<Figure size 720x360 with 1 Axes>"
      ]
     },
     "metadata": {},
     "output_type": "display_data"
    }
   ],
   "source": [
    "plt.figure(figsize=(10,5))\n",
    "# plt.scatter(data=reward_df.groupby('bins').mean(), x=\"Episode\", y=\"Reward\")\n",
    "plt.plot(np.linspace(0,3000000, len(rollingmean_rewards)), rollingmean_rewards)"
   ]
  },
  {
   "cell_type": "markdown",
   "metadata": {},
   "source": [
    "## Episode Lengths"
   ]
  },
  {
   "cell_type": "code",
   "execution_count": 269,
   "metadata": {},
   "outputs": [
    {
     "data": {
      "text/plain": [
       "[<matplotlib.lines.Line2D at 0x1a20808ac8>]"
      ]
     },
     "execution_count": 269,
     "metadata": {},
     "output_type": "execute_result"
    },
    {
     "data": {
      "image/png": "[encoded data removed]",
      "text/plain": [
       "<Figure size 720x360 with 1 Axes>"
      ]
     },
     "metadata": {},
     "output_type": "display_data"
    }
   ],
   "source": [
    "plt.figure(figsize=(10,5))\n",
    "plt.plot(np.linspace(0,3000000, len(rollingmean_eplength)), rollingmean_eplength)"
   ]
  },
  {
   "cell_type": "code",
   "execution_count": 270,
   "metadata": {},
   "outputs": [],
   "source": [
    "reward_df.to_csv('final_rewards_dqn')"
   ]
  },
  {
   "cell_type": "markdown",
   "metadata": {},
   "source": [
    "# Epsilon Values"
   ]
  },
  {
   "cell_type": "code",
   "execution_count": 107,
   "metadata": {},
   "outputs": [],
   "source": [
    "epsilon_df['Step'] = epsilon_df.index*4"
   ]
  },
  {
   "cell_type": "code",
   "execution_count": 108,
   "metadata": {},
   "outputs": [
    {
     "data": {
      "text/plain": [
       "<matplotlib.axes._subplots.AxesSubplot at 0x7f1c5be59e48>"
      ]
     },
     "execution_count": 108,
     "metadata": {},
     "output_type": "execute_result"
    },
    {
     "data": {
      "image/png": "[encoded data removed]",
      "text/plain": [
       "<Figure size 432x288 with 1 Axes>"
      ]
     },
     "metadata": {},
     "output_type": "display_data"
    }
   ],
   "source": [
    "seaborn.lineplot(data=epsilon_df[epsilon_df.Step % 5000 == 0], x=\"Step\", y=\"Epsilon\")"
   ]
  },
  {
   "cell_type": "markdown",
   "metadata": {},
   "source": [
    "# Learning Rate"
   ]
  },
  {
   "cell_type": "code",
   "execution_count": 109,
   "metadata": {},
   "outputs": [],
   "source": [
    "# seaborn.lineplot(data=qval_df[qval_df.Step % 5000 == 0], x=\"Step\", y=\"LearningRate\")"
   ]
  },
  {
   "cell_type": "code",
   "execution_count": 110,
   "metadata": {
    "scrolled": true
   },
   "outputs": [
    {
     "name": "stdout",
     "output_type": "stream",
     "text": [
      "<class 'pandas.core.frame.DataFrame'>\n",
      "RangeIndex: 402308 entries, 0 to 402307\n",
      "Data columns (total 4 columns):\n",
      "Step            402308 non-null int64\n",
      "QValue          402308 non-null float16\n",
      "Loss            402308 non-null float16\n",
      "LearningRate    0 non-null float16\n",
      "dtypes: float16(3), int64(1)\n",
      "memory usage: 5.4 MB\n"
     ]
    }
   ],
   "source": [
    "qval_df.info(memory_usage='deep')"
   ]
  },
  {
   "cell_type": "code",
   "execution_count": 111,
   "metadata": {},
   "outputs": [
    {
     "name": "stdout",
     "output_type": "stream",
     "text": [
      "<class 'pandas.core.frame.DataFrame'>\n",
      "RangeIndex: 402308 entries, 0 to 402307\n",
      "Data columns (total 2 columns):\n",
      "Step       402308 non-null int64\n",
      "Epsilon    402308 non-null float16\n",
      "dtypes: float16(1), int64(1)\n",
      "memory usage: 3.8 MB\n"
     ]
    }
   ],
   "source": [
    "epsilon_df.info(memory_usage='deep')"
   ]
  },
  {
   "cell_type": "code",
   "execution_count": 112,
   "metadata": {},
   "outputs": [
    {
     "name": "stdout",
     "output_type": "stream",
     "text": [
      "<class 'pandas.core.frame.DataFrame'>\n",
      "RangeIndex: 729 entries, 0 to 728\n",
      "Data columns (total 4 columns):\n",
      "Episode          729 non-null int64\n",
      "Reward           729 non-null int8\n",
      "EpisodeLength    729 non-null uint16\n",
      "bins             729 non-null category\n",
      "dtypes: category(1), int64(1), int8(1), uint16(1)\n",
      "memory usage: 9.4 KB\n"
     ]
    }
   ],
   "source": [
    "reward_df.info(memory_usage='deep')"
   ]
  },
  {
   "cell_type": "code",
   "execution_count": 113,
   "metadata": {},
   "outputs": [
    {
     "data": {
      "text/html": [
       "<div>\n",
       "<style scoped>\n",
       "    .dataframe tbody tr th:only-of-type {\n",
       "        vertical-align: middle;\n",
       "    }\n",
       "\n",
       "    .dataframe tbody tr th {\n",
       "        vertical-align: top;\n",
       "    }\n",
       "\n",
       "    .dataframe thead th {\n",
       "        text-align: right;\n",
       "    }\n",
       "</style>\n",
       "<table border=\"1\" class=\"dataframe\">\n",
       "  <thead>\n",
       "    <tr style=\"text-align: right;\">\n",
       "      <th></th>\n",
       "      <th>Step</th>\n",
       "      <th>QValue</th>\n",
       "      <th>Loss</th>\n",
       "      <th>LearningRate</th>\n",
       "    </tr>\n",
       "  </thead>\n",
       "  <tbody>\n",
       "    <tr>\n",
       "      <th>0</th>\n",
       "      <td>0</td>\n",
       "      <td>-0.006001</td>\n",
       "      <td>1.001953</td>\n",
       "      <td>NaN</td>\n",
       "    </tr>\n",
       "    <tr>\n",
       "      <th>1</th>\n",
       "      <td>4</td>\n",
       "      <td>-0.016006</td>\n",
       "      <td>0.008003</td>\n",
       "      <td>NaN</td>\n",
       "    </tr>\n",
       "    <tr>\n",
       "      <th>2</th>\n",
       "      <td>8</td>\n",
       "      <td>-0.016998</td>\n",
       "      <td>0.014000</td>\n",
       "      <td>NaN</td>\n",
       "    </tr>\n",
       "    <tr>\n",
       "      <th>3</th>\n",
       "      <td>12</td>\n",
       "      <td>-0.008003</td>\n",
       "      <td>0.008003</td>\n",
       "      <td>NaN</td>\n",
       "    </tr>\n",
       "    <tr>\n",
       "      <th>4</th>\n",
       "      <td>16</td>\n",
       "      <td>-0.010002</td>\n",
       "      <td>0.007000</td>\n",
       "      <td>NaN</td>\n",
       "    </tr>\n",
       "  </tbody>\n",
       "</table>\n",
       "</div>"
      ],
      "text/plain": [
       "   Step    QValue      Loss  LearningRate\n",
       "0     0 -0.006001  1.001953           NaN\n",
       "1     4 -0.016006  0.008003           NaN\n",
       "2     8 -0.016998  0.014000           NaN\n",
       "3    12 -0.008003  0.008003           NaN\n",
       "4    16 -0.010002  0.007000           NaN"
      ]
     },
     "execution_count": 113,
     "metadata": {},
     "output_type": "execute_result"
    }
   ],
   "source": [
    "qval_df.head()"
   ]
  },
  {
   "cell_type": "code",
   "execution_count": 26,
   "metadata": {},
   "outputs": [
    {
     "data": {
      "text/html": [
       "<div>\n",
       "<style scoped>\n",
       "    .dataframe tbody tr th:only-of-type {\n",
       "        vertical-align: middle;\n",
       "    }\n",
       "\n",
       "    .dataframe tbody tr th {\n",
       "        vertical-align: top;\n",
       "    }\n",
       "\n",
       "    .dataframe thead th {\n",
       "        text-align: right;\n",
       "    }\n",
       "</style>\n",
       "<table border=\"1\" class=\"dataframe\">\n",
       "  <thead>\n",
       "    <tr style=\"text-align: right;\">\n",
       "      <th></th>\n",
       "      <th>Step</th>\n",
       "      <th>Epsilon</th>\n",
       "    </tr>\n",
       "  </thead>\n",
       "  <tbody>\n",
       "    <tr>\n",
       "      <th>0</th>\n",
       "      <td>0</td>\n",
       "      <td>0.199951</td>\n",
       "    </tr>\n",
       "    <tr>\n",
       "      <th>1</th>\n",
       "      <td>1</td>\n",
       "      <td>0.199951</td>\n",
       "    </tr>\n",
       "    <tr>\n",
       "      <th>2</th>\n",
       "      <td>2</td>\n",
       "      <td>0.199951</td>\n",
       "    </tr>\n",
       "    <tr>\n",
       "      <th>3</th>\n",
       "      <td>3</td>\n",
       "      <td>0.199951</td>\n",
       "    </tr>\n",
       "    <tr>\n",
       "      <th>4</th>\n",
       "      <td>4</td>\n",
       "      <td>0.199951</td>\n",
       "    </tr>\n",
       "  </tbody>\n",
       "</table>\n",
       "</div>"
      ],
      "text/plain": [
       "   Step   Epsilon\n",
       "0     0  0.199951\n",
       "1     1  0.199951\n",
       "2     2  0.199951\n",
       "3     3  0.199951\n",
       "4     4  0.199951"
      ]
     },
     "execution_count": 26,
     "metadata": {},
     "output_type": "execute_result"
    }
   ],
   "source": [
    "epsilon_df.head()"
   ]
  },
  {
   "cell_type": "code",
   "execution_count": null,
   "metadata": {},
   "outputs": [],
   "source": []
  },
  {
   "cell_type": "code",
   "execution_count": null,
   "metadata": {},
   "outputs": [],
   "source": []
  },
  {
   "cell_type": "code",
   "execution_count": 27,
   "metadata": {},
   "outputs": [],
   "source": [
    "# with open(\"logs/dqn-pong-1533116055-log\") as f:\n",
    "#     logtext = f.read()"
   ]
  },
  {
   "cell_type": "code",
   "execution_count": 28,
   "metadata": {
    "scrolled": true
   },
   "outputs": [],
   "source": [
    "# logtext[:1000]"
   ]
  },
  {
   "cell_type": "code",
   "execution_count": 29,
   "metadata": {},
   "outputs": [],
   "source": [
    "# logtext = logtext.replace(\"INFO:root:\", \"\")"
   ]
  },
  {
   "cell_type": "code",
   "execution_count": 30,
   "metadata": {},
   "outputs": [],
   "source": [
    "# logtext = logtext.splitlines()"
   ]
  },
  {
   "cell_type": "code",
   "execution_count": 31,
   "metadata": {
    "scrolled": true
   },
   "outputs": [],
   "source": [
    "# logtext[:10]"
   ]
  },
  {
   "cell_type": "code",
   "execution_count": 32,
   "metadata": {},
   "outputs": [],
   "source": [
    "# epsilon_logs = [b for b in logtext if \"Epsilon:\" in b]"
   ]
  },
  {
   "cell_type": "code",
   "execution_count": 33,
   "metadata": {},
   "outputs": [],
   "source": [
    "# qval_logs = [b for b in logtext if \"QValue:\" in b]"
   ]
  },
  {
   "cell_type": "code",
   "execution_count": 34,
   "metadata": {},
   "outputs": [],
   "source": [
    "# reward_logs = [b for b in logtext if \"Reward:\" in b]"
   ]
  },
  {
   "cell_type": "code",
   "execution_count": 35,
   "metadata": {},
   "outputs": [],
   "source": [
    "# qval_logs = '\\n'.join(qval_logs)\n",
    "# epsilon_logs = '\\n'.join(epsilon_logs)\n",
    "# reward_logs = '\\n'.join(reward_logs)"
   ]
  },
  {
   "cell_type": "code",
   "execution_count": 36,
   "metadata": {},
   "outputs": [],
   "source": [
    "# epsilon_logs = re.sub(\"[a-zA-z:]\", \"\", epsilon_logs)\n",
    "# epsilon_logs = epsilon_logs.replace(\":\",\"\").replace(\"Step\",\"\").replace(\"Epsilon\",\"\")"
   ]
  },
  {
   "cell_type": "code",
   "execution_count": 37,
   "metadata": {},
   "outputs": [],
   "source": [
    "# qval_logs = qval_logs.replace(\":\",\"\").replace(\"Step\",\"\").replace(\"QValue\",\"\").replace(\"Loss\",\"\").replace(\"LearningRate\",\"\")"
   ]
  },
  {
   "cell_type": "code",
   "execution_count": 38,
   "metadata": {},
   "outputs": [],
   "source": [
    "# reward_logs = reward_logs.replace(\":\",\"\").replace(\"Episode\",\"\").replace(\"Reward\",\"\")"
   ]
  },
  {
   "cell_type": "code",
   "execution_count": 39,
   "metadata": {},
   "outputs": [],
   "source": [
    "# epsilon_df = pandas.read_csv(StringIO(epsilon_logs),\n",
    "#                              names=[\"Step\", \"Epsilon\"],\n",
    "#                              dtype={'Step': np.uint32, 'Epsilon': np.float16})"
   ]
  },
  {
   "cell_type": "code",
   "execution_count": 40,
   "metadata": {},
   "outputs": [],
   "source": [
    "# qval_df = pandas.read_csv(StringIO(qval_logs),\n",
    "#                           names=[\"Step\", \"QValue\", \"Loss\", \"LearningRate\"],\n",
    "#                           dtype={'Step': np.uint32, 'QValue': np.float16, 'Loss': np.float16, 'LearningRate': np.float16})"
   ]
  },
  {
   "cell_type": "code",
   "execution_count": 41,
   "metadata": {},
   "outputs": [],
   "source": [
    "# reward_df = pandas.read_csv(StringIO(reward_logs),\n",
    "#                             names=[\"Episode\", \"Reward\"],\n",
    "#                             dtype={'Episode': np.uint16, 'Reward': np.int8})"
   ]
  },
  {
   "cell_type": "code",
   "execution_count": null,
   "metadata": {},
   "outputs": [],
   "source": []
  }
 ],
 "metadata": {
  "kernelspec": {
   "display_name": "Python 3",
   "language": "python",
   "name": "python3"
  },
  "language_info": {
   "codemirror_mode": {
    "name": "ipython",
    "version": 3
   },
   "file_extension": ".py",
   "mimetype": "text/x-python",
   "name": "python",
   "nbconvert_exporter": "python",
   "pygments_lexer": "ipython3",
   "version": "3.6.5"
  }
 },
 "nbformat": 4,
 "nbformat_minor": 2
}
